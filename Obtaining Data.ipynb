{
 "cells": [
  {
   "cell_type": "code",
   "execution_count": 1,
   "metadata": {},
   "outputs": [],
   "source": [
    "import pandas as pd\n",
    "\n",
    "## Appends each year's defensive dataframe into a list\n",
    "DF_list = [pd.read_csv('https://raw.githubusercontent.com/fantasydatapros/data/master/defense/' + str(i) + '.csv') \n",
    "           for i in range(1966, 2020)] "
   ]
  },
  {
   "cell_type": "code",
   "execution_count": 2,
   "metadata": {},
   "outputs": [],
   "source": [
    "year = 1966\n",
    "\n",
    "## Creates new identifying \"year\" column for each year's dataframe\n",
    "for i in range(0,54):\n",
    "    DF_list[i]['Year'] = year\n",
    "    year += 1"
   ]
  },
  {
   "cell_type": "code",
   "execution_count": 3,
   "metadata": {},
   "outputs": [],
   "source": [
    "## Merges each year's dataframe into one dataframe\n",
    "df_all = pd.concat(DF_list)"
   ]
  },
  {
   "cell_type": "code",
   "execution_count": 5,
   "metadata": {},
   "outputs": [],
   "source": [
    "## Write to github repo\n",
    "\n",
    "df_all.to_csv(\"df_all.csv\")"
   ]
  }
 ],
 "metadata": {
  "kernelspec": {
   "display_name": "Python 3",
   "language": "python",
   "name": "python3"
  },
  "language_info": {
   "codemirror_mode": {
    "name": "ipython",
    "version": 3
   },
   "file_extension": ".py",
   "mimetype": "text/x-python",
   "name": "python",
   "nbconvert_exporter": "python",
   "pygments_lexer": "ipython3",
   "version": "3.8.8"
  }
 },
 "nbformat": 4,
 "nbformat_minor": 4
}
